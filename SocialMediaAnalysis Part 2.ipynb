{
 "cells": [
  {
   "cell_type": "markdown",
   "metadata": {
    "colab_type": "text",
    "id": "FGasKpiw6DdB"
   },
   "source": [
    "## 95-851: Social Media Analysis\n",
    "### Data Clan\n",
    "#### Part 2: Important Attribute Analysis"
   ]
  },
  {
   "cell_type": "markdown",
   "metadata": {
    "colab_type": "text",
    "id": "LOtMvSGb6DdD"
   },
   "source": [
    "### 1. Load Data"
   ]
  },
  {
   "cell_type": "code",
   "execution_count": 0,
   "metadata": {
    "colab": {},
    "colab_type": "code",
    "id": "0YResb3x6DdE"
   },
   "outputs": [],
   "source": [
    "import pandas as pd \n",
    "import numpy as np\n",
    "import matplotlib.pyplot as plt\n",
    "import spacy\n",
    "import seaborn as sns"
   ]
  },
  {
   "cell_type": "code",
   "execution_count": 0,
   "metadata": {
    "colab": {},
    "colab_type": "code",
    "id": "X6BA4oah6DdI"
   },
   "outputs": [],
   "source": [
    "import re\n",
    "import string\n",
    "import codecs\n",
    "\n",
    "def makeWordList(path):\n",
    "    \n",
    "    with codecs.open(path, \"r\", encoding='utf-8', errors='ignore') as f:\n",
    "        corpus_text = f.read()\n",
    "\n",
    "    for c in string.punctuation:\n",
    "        corpus_text = corpus_text.replace(c, \"\")  # -- (1)\n",
    "    \n",
    "    text = re.sub(r'\\S*\\d\\S*', '', corpus_text) # -- (2)\n",
    "    text = re.sub(r'[^\\w\\s]', '', text)         # -- (3)\n",
    "    \n",
    "    text = text.lower().split()           # -- (4)         \n",
    "    \n",
    "    li = []\n",
    "    for token in text:\n",
    "        li.append(token)\n",
    "\n",
    "    return \" \".join(li)"
   ]
  },
  {
   "cell_type": "code",
   "execution_count": 0,
   "metadata": {
    "colab": {},
    "colab_type": "code",
    "id": "DQQ6SQZr6DdL"
   },
   "outputs": [],
   "source": [
    "# load text corpus\n",
    "#Both_IPhones_data\n",
    "df = pd.read_csv('./Cleaned/Both_iPhones_data.csv', encoding='utf-8')"
   ]
  },
  {
   "cell_type": "markdown",
   "metadata": {
    "colab_type": "text",
    "id": "sDaST54G6DdO"
   },
   "source": [
    "### 2. iPhone Analysis"
   ]
  },
  {
   "cell_type": "markdown",
   "metadata": {
    "colab_type": "text",
    "id": "x_LRj5KU6DdP"
   },
   "source": [
    "#### Sources of iPhone posts:"
   ]
  },
  {
   "cell_type": "code",
   "execution_count": 0,
   "metadata": {
    "colab": {},
    "colab_type": "code",
    "id": "fdbKgAoC6DdQ",
    "outputId": "d0dcaa46-30c9-4040-8f65-cb22a4785918"
   },
   "outputs": [
    {
     "data": {
      "text/plain": [
       "<matplotlib.axes._subplots.AxesSubplot at 0x7f8af6057128>"
      ]
     },
     "execution_count": 80,
     "metadata": {
      "tags": []
     },
     "output_type": "execute_result"
    },
    {
     "data": {
      "image/png": "[encoded data removed]",
      "text/plain": [
       "<Figure size 432x288 with 1 Axes>"
      ]
     },
     "metadata": {
      "tags": []
     },
     "output_type": "display_data"
    }
   ],
   "source": [
    "df['Source Type'].value_counts().plot('bar')"
   ]
  },
  {
   "cell_type": "markdown",
   "metadata": {
    "colab_type": "text",
    "id": "_ikFkcbu6DdV"
   },
   "source": [
    "As we can see majority of the reviews/posts come from blogs."
   ]
  },
  {
   "cell_type": "code",
   "execution_count": 0,
   "metadata": {
    "colab": {},
    "colab_type": "code",
    "id": "h0HLmZ7d6DdV"
   },
   "outputs": [],
   "source": [
    "corpus = list(df['Sound Bite Text'])"
   ]
  },
  {
   "cell_type": "code",
   "execution_count": 0,
   "metadata": {
    "colab": {},
    "colab_type": "code",
    "id": "Cxzv12fx6DdY",
    "outputId": "06a59573-3997-4794-c845-4ed7753cbdaf",
    "scrolled": false
   },
   "outputs": [
    {
     "data": {
      "text/plain": [
       "'Following the naming system of the past several years of the iPhone, this year’s release would be named the iPhone 7s. Talk suggests there will still be the release of the iPhone 7s in the addition to the newer model. What this will be named – iPhone 8, iPhone 10, iPhone X, something completely different – we’ll just have to wait and see! Lesson of the Week: Julian Robertson “Our mandate is to find the 200 best companies in the world and invest in them, and find the 200 worst companies in the world and go short on them.'"
      ]
     },
     "execution_count": 10,
     "metadata": {
      "tags": []
     },
     "output_type": "execute_result"
    }
   ],
   "source": [
    "corpus[0]"
   ]
  },
  {
   "cell_type": "code",
   "execution_count": 0,
   "metadata": {
    "colab": {},
    "colab_type": "code",
    "id": "lDclZx4K6Ddc",
    "outputId": "909c4ae3-d768-4398-bd8f-40c41ad5dfda"
   },
   "outputs": [
    {
     "data": {
      "text/plain": [
       "38405"
      ]
     },
     "execution_count": 11,
     "metadata": {
      "tags": []
     },
     "output_type": "execute_result"
    }
   ],
   "source": [
    "len(corpus)"
   ]
  },
  {
   "cell_type": "markdown",
   "metadata": {
    "colab_type": "text",
    "id": "fVEIgfy86Ddf"
   },
   "source": [
    "There 38405 reviews/posts on iPhone 8 and iPhone X combined"
   ]
  },
  {
   "cell_type": "code",
   "execution_count": 0,
   "metadata": {
    "colab": {},
    "colab_type": "code",
    "id": "SwPaPnMa6Ddg"
   },
   "outputs": [],
   "source": [
    "import spacy \n",
    "nlp = spacy.load('en', disable=['ner', 'parser', 'tagger']) #disabling to optimize loading time\n",
    "\n",
    "def word_tokenizer(doc):\n",
    "    parsed_doc = nlp(doc)\n",
    "    return([token.lemma_.lower() for token in parsed_doc if re.match('[a-zA-Z]+$', token.orth_) and token.lemma_ != '-PRON-'])"
   ]
  },
  {
   "cell_type": "code",
   "execution_count": 0,
   "metadata": {
    "colab": {},
    "colab_type": "code",
    "id": "2HKPhBpz6Ddj"
   },
   "outputs": [],
   "source": [
    "from sklearn.feature_extraction import text\n",
    "my_stop_words = text.ENGLISH_STOP_WORDS.union(['iphone', 'apple', 'mac', 'ipad', 'plus', 'iphonex', 'applewatch', 'macbook'])"
   ]
  },
  {
   "cell_type": "code",
   "execution_count": 0,
   "metadata": {
    "colab": {},
    "colab_type": "code",
    "id": "fupLibpF6Ddm",
    "outputId": "8a8ad033-d575-4c8f-db06-0c1125a031ab"
   },
   "outputs": [
    {
     "name": "stdout",
     "output_type": "stream",
     "text": [
      "Number of features in tf-idf: 3324\n"
     ]
    }
   ],
   "source": [
    "#constructing a document matrix\n",
    "from sklearn.feature_extraction.text import TfidfVectorizer\n",
    "vectorizer = TfidfVectorizer(min_df=50, stop_words=my_stop_words, max_df=0.8, tokenizer=word_tokenizer)\n",
    "doc_matrix = vectorizer.fit_transform(corpus)\n",
    "print('Number of features in tf-idf:', len(vectorizer.vocabulary_)) # a mapping of terms to feature indices"
   ]
  },
  {
   "cell_type": "code",
   "execution_count": 0,
   "metadata": {
    "colab": {},
    "colab_type": "code",
    "id": "5YQlk02p6Ddv"
   },
   "outputs": [],
   "source": [
    "doc_matrix = doc_matrix.toarray()"
   ]
  },
  {
   "cell_type": "code",
   "execution_count": 0,
   "metadata": {
    "colab": {},
    "colab_type": "code",
    "id": "yfWTMq-X6Ddy",
    "outputId": "533cd4fb-2d1f-4a09-addc-8876ae67aae2"
   },
   "outputs": [
    {
     "data": {
      "text/plain": [
       "(38405, 3324)"
      ]
     },
     "execution_count": 71,
     "metadata": {
      "tags": []
     },
     "output_type": "execute_result"
    }
   ],
   "source": [
    "doc_matrix.shape"
   ]
  },
  {
   "cell_type": "markdown",
   "metadata": {
    "colab_type": "text",
    "id": "DlBk1O9l6Dd2"
   },
   "source": [
    "After feature engineering, we have extract 3324 feature values corresponding to 38405 posts/reviews."
   ]
  },
  {
   "cell_type": "code",
   "execution_count": 0,
   "metadata": {
    "colab": {},
    "colab_type": "code",
    "id": "hHDwAcdh6Dd-"
   },
   "outputs": [],
   "source": [
    "#constructing feature set\n",
    "feature_set = pd.DataFrame(doc_matrix)"
   ]
  },
  {
   "cell_type": "code",
   "execution_count": 0,
   "metadata": {
    "colab": {},
    "colab_type": "code",
    "id": "wRX8Pmye6DeC"
   },
   "outputs": [],
   "source": [
    "feature_set.columns = vectorizer.get_feature_names()"
   ]
  },
  {
   "cell_type": "code",
   "execution_count": 0,
   "metadata": {
    "colab": {},
    "colab_type": "code",
    "id": "OuXYxMhG6DeG",
    "outputId": "f48c03bd-027a-4db3-82ee-cc635674de41"
   },
   "outputs": [
    {
     "data": {
      "text/html": [
       "<div>\n",
       "<style scoped>\n",
       "    .dataframe tbody tr th:only-of-type {\n",
       "        vertical-align: middle;\n",
       "    }\n",
       "\n",
       "    .dataframe tbody tr th {\n",
       "        vertical-align: top;\n",
       "    }\n",
       "\n",
       "    .dataframe thead th {\n",
       "        text-align: right;\n",
       "    }\n",
       "</style>\n",
       "<table border=\"1\" class=\"dataframe\">\n",
       "  <thead>\n",
       "    <tr style=\"text-align: right;\">\n",
       "      <th></th>\n",
       "      <th>10</th>\n",
       "      <th>2</th>\n",
       "      <th>3</th>\n",
       "      <th>4</th>\n",
       "      <th>5</th>\n",
       "      <th>a.m.</th>\n",
       "      <th>aapl</th>\n",
       "      <th>abandon</th>\n",
       "      <th>ability</th>\n",
       "      <th>able</th>\n",
       "      <th>...</th>\n",
       "      <th>youtuber</th>\n",
       "      <th>yuan</th>\n",
       "      <th>zaharov</th>\n",
       "      <th>zdnet</th>\n",
       "      <th>zealand</th>\n",
       "      <th>zero</th>\n",
       "      <th>zhang</th>\n",
       "      <th>zone</th>\n",
       "      <th>zoom</th>\n",
       "      <th>﻿1</th>\n",
       "    </tr>\n",
       "  </thead>\n",
       "  <tbody>\n",
       "    <tr>\n",
       "      <th>0</th>\n",
       "      <td>0.000000</td>\n",
       "      <td>0.0</td>\n",
       "      <td>0.0</td>\n",
       "      <td>0.0</td>\n",
       "      <td>0.0</td>\n",
       "      <td>0.0</td>\n",
       "      <td>0.0</td>\n",
       "      <td>0.0</td>\n",
       "      <td>0.0</td>\n",
       "      <td>0.0</td>\n",
       "      <td>...</td>\n",
       "      <td>0.0</td>\n",
       "      <td>0.0</td>\n",
       "      <td>0.0</td>\n",
       "      <td>0.0</td>\n",
       "      <td>0.0</td>\n",
       "      <td>0.0</td>\n",
       "      <td>0.0</td>\n",
       "      <td>0.0</td>\n",
       "      <td>0.0</td>\n",
       "      <td>0.000000</td>\n",
       "    </tr>\n",
       "    <tr>\n",
       "      <th>1</th>\n",
       "      <td>0.085010</td>\n",
       "      <td>0.0</td>\n",
       "      <td>0.0</td>\n",
       "      <td>0.0</td>\n",
       "      <td>0.0</td>\n",
       "      <td>0.0</td>\n",
       "      <td>0.0</td>\n",
       "      <td>0.0</td>\n",
       "      <td>0.0</td>\n",
       "      <td>0.0</td>\n",
       "      <td>...</td>\n",
       "      <td>0.0</td>\n",
       "      <td>0.0</td>\n",
       "      <td>0.0</td>\n",
       "      <td>0.0</td>\n",
       "      <td>0.0</td>\n",
       "      <td>0.0</td>\n",
       "      <td>0.0</td>\n",
       "      <td>0.0</td>\n",
       "      <td>0.0</td>\n",
       "      <td>0.044867</td>\n",
       "    </tr>\n",
       "    <tr>\n",
       "      <th>2</th>\n",
       "      <td>0.091318</td>\n",
       "      <td>0.0</td>\n",
       "      <td>0.0</td>\n",
       "      <td>0.0</td>\n",
       "      <td>0.0</td>\n",
       "      <td>0.0</td>\n",
       "      <td>0.0</td>\n",
       "      <td>0.0</td>\n",
       "      <td>0.0</td>\n",
       "      <td>0.0</td>\n",
       "      <td>...</td>\n",
       "      <td>0.0</td>\n",
       "      <td>0.0</td>\n",
       "      <td>0.0</td>\n",
       "      <td>0.0</td>\n",
       "      <td>0.0</td>\n",
       "      <td>0.0</td>\n",
       "      <td>0.0</td>\n",
       "      <td>0.0</td>\n",
       "      <td>0.0</td>\n",
       "      <td>0.000000</td>\n",
       "    </tr>\n",
       "    <tr>\n",
       "      <th>3</th>\n",
       "      <td>0.090216</td>\n",
       "      <td>0.0</td>\n",
       "      <td>0.0</td>\n",
       "      <td>0.0</td>\n",
       "      <td>0.0</td>\n",
       "      <td>0.0</td>\n",
       "      <td>0.0</td>\n",
       "      <td>0.0</td>\n",
       "      <td>0.0</td>\n",
       "      <td>0.0</td>\n",
       "      <td>...</td>\n",
       "      <td>0.0</td>\n",
       "      <td>0.0</td>\n",
       "      <td>0.0</td>\n",
       "      <td>0.0</td>\n",
       "      <td>0.0</td>\n",
       "      <td>0.0</td>\n",
       "      <td>0.0</td>\n",
       "      <td>0.0</td>\n",
       "      <td>0.0</td>\n",
       "      <td>0.000000</td>\n",
       "    </tr>\n",
       "    <tr>\n",
       "      <th>4</th>\n",
       "      <td>0.000000</td>\n",
       "      <td>0.0</td>\n",
       "      <td>0.0</td>\n",
       "      <td>0.0</td>\n",
       "      <td>0.0</td>\n",
       "      <td>0.0</td>\n",
       "      <td>0.0</td>\n",
       "      <td>0.0</td>\n",
       "      <td>0.0</td>\n",
       "      <td>0.0</td>\n",
       "      <td>...</td>\n",
       "      <td>0.0</td>\n",
       "      <td>0.0</td>\n",
       "      <td>0.0</td>\n",
       "      <td>0.0</td>\n",
       "      <td>0.0</td>\n",
       "      <td>0.0</td>\n",
       "      <td>0.0</td>\n",
       "      <td>0.0</td>\n",
       "      <td>0.0</td>\n",
       "      <td>0.019827</td>\n",
       "    </tr>\n",
       "  </tbody>\n",
       "</table>\n",
       "<p>5 rows × 3324 columns</p>\n",
       "</div>"
      ],
      "text/plain": [
       "         10    2    3    4    5  a.m.  aapl  abandon  ability  able    ...     \\\n",
       "0  0.000000  0.0  0.0  0.0  0.0   0.0   0.0      0.0      0.0   0.0    ...      \n",
       "1  0.085010  0.0  0.0  0.0  0.0   0.0   0.0      0.0      0.0   0.0    ...      \n",
       "2  0.091318  0.0  0.0  0.0  0.0   0.0   0.0      0.0      0.0   0.0    ...      \n",
       "3  0.090216  0.0  0.0  0.0  0.0   0.0   0.0      0.0      0.0   0.0    ...      \n",
       "4  0.000000  0.0  0.0  0.0  0.0   0.0   0.0      0.0      0.0   0.0    ...      \n",
       "\n",
       "   youtuber  yuan  zaharov  zdnet  zealand  zero  zhang  zone  zoom        ﻿1  \n",
       "0       0.0   0.0      0.0    0.0      0.0   0.0    0.0   0.0   0.0  0.000000  \n",
       "1       0.0   0.0      0.0    0.0      0.0   0.0    0.0   0.0   0.0  0.044867  \n",
       "2       0.0   0.0      0.0    0.0      0.0   0.0    0.0   0.0   0.0  0.000000  \n",
       "3       0.0   0.0      0.0    0.0      0.0   0.0    0.0   0.0   0.0  0.000000  \n",
       "4       0.0   0.0      0.0    0.0      0.0   0.0    0.0   0.0   0.0  0.019827  \n",
       "\n",
       "[5 rows x 3324 columns]"
      ]
     },
     "execution_count": 75,
     "metadata": {
      "tags": []
     },
     "output_type": "execute_result"
    }
   ],
   "source": [
    "feature_set.head()"
   ]
  },
  {
   "cell_type": "code",
   "execution_count": 0,
   "metadata": {
    "colab": {},
    "colab_type": "code",
    "id": "sPM7B3ux6DeK",
    "outputId": "3e5b56f9-ba89-4401-e9cf-5641fc729adb"
   },
   "outputs": [
    {
     "data": {
      "text/plain": [
       "LatentDirichletAllocation(batch_size=128, doc_topic_prior=None,\n",
       "             evaluate_every=-1, learning_decay=0.7,\n",
       "             learning_method='online', learning_offset=10.0,\n",
       "             max_doc_update_iter=100, max_iter=10, mean_change_tol=0.001,\n",
       "             n_components=10, n_jobs=-1, n_topics=None, perp_tol=0.1,\n",
       "             random_state=0, topic_word_prior=None,\n",
       "             total_samples=1000000.0, verbose=0)"
      ]
     },
     "execution_count": 76,
     "metadata": {
      "tags": []
     },
     "output_type": "execute_result"
    }
   ],
   "source": [
    "num_topics = 10\n",
    "from sklearn.decomposition import LatentDirichletAllocation\n",
    "lda = LatentDirichletAllocation(n_components=num_topics, learning_method='online', max_iter=10, n_jobs=-1 , random_state=0)\n",
    "lda.fit(doc_matrix)"
   ]
  },
  {
   "cell_type": "code",
   "execution_count": 0,
   "metadata": {
    "colab": {},
    "colab_type": "code",
    "id": "yPo_mZaQ6DeO",
    "outputId": "d0685eab-153a-4dcd-df83-3bb98be1019a"
   },
   "outputs": [
    {
     "name": "stdout",
     "output_type": "stream",
     "text": [
      "Log Likelihood:  -1577041.7641789156\n"
     ]
    }
   ],
   "source": [
    "print(\"Log Likelihood: \", lda.score(doc_matrix))"
   ]
  },
  {
   "cell_type": "code",
   "execution_count": 0,
   "metadata": {
    "colab": {},
    "colab_type": "code",
    "id": "9RgGu9fR6DeR",
    "outputId": "7ae184f5-044d-4992-eb15-e8ecb1bba4af"
   },
   "outputs": [
    {
     "name": "stdout",
     "output_type": "stream",
     "text": [
      "Perplexity:  3110.62261221589\n"
     ]
    }
   ],
   "source": [
    "print(\"Perplexity: \", lda.perplexity(doc_matrix))"
   ]
  },
  {
   "cell_type": "code",
   "execution_count": 0,
   "metadata": {
    "colab": {},
    "colab_type": "code",
    "id": "K5CJ8mn56DeU"
   },
   "outputs": [],
   "source": [
    "best_topics = 10\n",
    "best_lda_model = lda"
   ]
  },
  {
   "cell_type": "code",
   "execution_count": 0,
   "metadata": {
    "colab": {},
    "colab_type": "code",
    "id": "We1ZBZ3p6DeV"
   },
   "outputs": [],
   "source": [
    "# Topic - Word matrix\n",
    "topic_keywords_matrix = pd.DataFrame(best_lda_model.components_)\n",
    "topic_keywords_matrix.columns = vectorizer.get_feature_names()"
   ]
  },
  {
   "cell_type": "code",
   "execution_count": 0,
   "metadata": {
    "colab": {},
    "colab_type": "code",
    "id": "DmNFcvjF6DeX"
   },
   "outputs": [],
   "source": [
    "topic_word_distributions = np.array([topic_word_pseudocounts / np.sum(topic_word_pseudocounts)\n",
    "                                     for topic_word_pseudocounts in best_lda_model.components_])"
   ]
  },
  {
   "cell_type": "code",
   "execution_count": 0,
   "metadata": {
    "colab": {},
    "colab_type": "code",
    "id": "QRgMa0NB6Dea"
   },
   "outputs": [],
   "source": [
    "word_columns = vectorizer.get_feature_names()"
   ]
  },
  {
   "cell_type": "markdown",
   "metadata": {
    "colab_type": "text",
    "id": "riULj9Ji6Dec"
   },
   "source": [
    "#### Classify posts based on common themes"
   ]
  },
  {
   "cell_type": "code",
   "execution_count": 0,
   "metadata": {
    "colab": {},
    "colab_type": "code",
    "id": "zFeEaL8p6Ded",
    "outputId": "271e44aa-c9ac-4bd0-9688-28d12521b12b",
    "scrolled": false
   },
   "outputs": [
    {
     "name": "stdout",
     "output_type": "stream",
     "text": [
      "Displaying the top 20 words per topic and their probabilities within the topic...\n",
      "\n",
      "[Topic 0]\n",
      "gb : 0.08124314795349012\n",
      "gold : 0.04410283249794682\n",
      "silver : 0.03711345405706172\n",
      "iphonex : 0.0285691050166316\n",
      "grey : 0.02727555025725522\n",
      "ready : 0.026801837573345554\n",
      "warranty : 0.021902380389274053\n",
      "idr : 0.02064325040860555\n",
      "space : 0.018827639424979174\n",
      "black : 0.01584397212368294\n",
      "color : 0.01509612515748844\n",
      "appletv : 0.013902717245887595\n",
      "po : 0.013067984098703432\n",
      "plus : 0.011254466475556044\n",
      "instagood : 0.010192217994243068\n",
      "order : 0.010189852782789836\n",
      "eta : 0.0098416074187699\n",
      "available : 0.009334004021601942\n",
      "open : 0.009299183846883606\n",
      "jualiphone : 0.008682850861908217\n",
      "\n",
      "[Topic 1]\n",
      "apple : 0.01815531268165605\n",
      "new : 0.0086841931537251\n",
      "plus : 0.008435350915833199\n",
      "price : 0.008331457723834815\n",
      "launch : 0.008097981188887608\n",
      "order : 0.00793602440560132\n",
      "pre : 0.0067097997776872885\n",
      "buy : 0.00602034729244769\n",
      "release : 0.005694689001243799\n",
      "say : 0.005668815577593309\n",
      "store : 0.005218897977990837\n",
      "year : 0.0051913922843324556\n",
      "model : 0.0050264809302259204\n",
      "report : 0.004999077140273415\n",
      "phone : 0.004960685616460343\n",
      "start : 0.0046675662288371556\n",
      "watch : 0.004647171762996064\n",
      "demand : 0.004630651588159105\n",
      "month : 0.0046294769896978736\n",
      "cost : 0.00461872773267132\n",
      "\n",
      "[Topic 2]\n",
      "apple : 0.011828223378695959\n",
      "new : 0.010006526162587823\n",
      "plus : 0.009257686725840368\n",
      "phone : 0.00669340601564742\n",
      "camera : 0.006646041024878505\n",
      "feature : 0.005944818032704595\n",
      "screen : 0.005280006789421025\n",
      "make : 0.0046961159768002724\n",
      "use : 0.004618115398280779\n",
      "device : 0.004578096433708312\n",
      "ios : 0.004558068432185897\n",
      "display : 0.0043804375700023535\n",
      "like : 0.004282907722111291\n",
      "design : 0.00420636343799351\n",
      "face : 0.004029503978618222\n",
      "look : 0.0037913617336497673\n",
      "come : 0.003764873922151073\n",
      "pixel : 0.003695638816508181\n",
      "just : 0.00366095659509803\n",
      "charge : 0.0036340945592757924\n",
      "\n",
      "[Topic 3]\n",
      "charge : 0.09471580298408803\n",
      "wireless : 0.08809183515390136\n",
      "qi : 0.03385878645396637\n",
      "pad : 0.03366664704402715\n",
      "charger : 0.02851052747205663\n",
      "apple : 0.020380056723358932\n",
      "powerbyproxi : 0.019116451497411972\n",
      "support : 0.018801019730501457\n",
      "ikea : 0.01604313863402815\n",
      "case : 0.01563248848028313\n",
      "standard : 0.015162903208354289\n",
      "include : 0.01332835582450516\n",
      "new : 0.011165936727383573\n",
      "accessory : 0.011103829175289681\n",
      "belkin : 0.011011322946472989\n",
      "airpower : 0.01099039025909077\n",
      "plug : 0.010038895446879493\n",
      "power : 0.009287162741726637\n",
      "work : 0.008985304164221561\n",
      "starbucks : 0.008754326118411045\n",
      "\n",
      "[Topic 4]\n",
      "iphonex : 0.08960288972084668\n",
      "plus : 0.04746456270083673\n",
      "tag : 0.038212148016760615\n",
      "apple : 0.033074284759226996\n",
      "vs : 0.028523997028196503\n",
      "ifttt : 0.02745385169595188\n",
      "twitter : 0.019510303088625374\n",
      "tech : 0.019205887195247066\n",
      "ios : 0.01815838823625497\n",
      "macbook : 0.017664221001397994\n",
      "unboxing : 0.01727397601811946\n",
      "beat : 0.01686242554196894\n",
      "applewatch : 0.015469643578818509\n",
      "buy : 0.015277808763483421\n",
      "ipad : 0.014220181532959767\n",
      "video : 0.014144355018765547\n",
      "technology : 0.01341462433820431\n",
      "red : 0.013404207616320099\n",
      "fee : 0.013206740931377792\n",
      "photo : 0.012973578849661068\n",
      "\n",
      "[Topic 5]\n",
      "charge : 0.044324826135869765\n",
      "usb : 0.04097267300820534\n",
      "fast : 0.039901188917655005\n",
      "c : 0.03329894061261873\n",
      "charger : 0.02686114602812956\n",
      "adapter : 0.02356626362105339\n",
      "cable : 0.01936804869551776\n",
      "power : 0.01798376715485782\n",
      "keybanc : 0.016901642051168744\n",
      "lightning : 0.016680226841080698\n",
      "support : 0.014710136949003862\n",
      "minute : 0.014507291653038294\n",
      "post : 0.014431883955452184\n",
      "plus : 0.014370831190036158\n",
      "review : 0.014322574861014894\n",
      "﻿1 : 0.013507167036357503\n",
      "apple : 0.01321933361759763\n",
      "box : 0.012828378503101917\n",
      "need : 0.012468429764443343\n",
      "overload : 0.012327821276818402\n",
      "\n",
      "[Topic 6]\n",
      "irrelevant : 0.043299476684149324\n",
      "flag : 0.04311701274629856\n",
      "google : 0.03838700904319528\n",
      "alert : 0.030528258504849335\n",
      "news : 0.026788452297191675\n",
      "cnet : 0.022953801970168143\n",
      "ifttt : 0.020759165189906236\n",
      "business : 0.018242310135475937\n",
      "mobile : 0.01608912860332735\n",
      "coverage : 0.015969745398043706\n",
      "forbes : 0.015771801605714935\n",
      "tag : 0.015555109796640867\n",
      "t : 0.015299204936198288\n",
      "insider : 0.014314094546552858\n",
      "network : 0.012905734364261397\n",
      "apple : 0.01275583378990395\n",
      "lte : 0.01270380479182214\n",
      "blog : 0.010880641166205143\n",
      "app : 0.010836862845147132\n",
      "support : 0.010454659010314707\n",
      "\n",
      "[Topic 7]\n",
      "survey : 0.0488375331585272\n",
      "bio : 0.030879927921308923\n",
      "link : 0.023593061094276523\n",
      "decline : 0.02272482765930906\n",
      "poll : 0.016621392092961748\n",
      "percent : 0.016245034958426538\n",
      "life : 0.01618450352169856\n",
      "pick : 0.016011803060931615\n",
      "profit : 0.015032429903392586\n",
      "euro : 0.014788897081045402\n",
      "guy : 0.014353902788908118\n",
      "bernstein : 0.013664133065030348\n",
      "engadget : 0.01352622911061442\n",
      "fm : 0.013343328720601282\n",
      "battery : 0.012951714084298236\n",
      "reaction : 0.012914364971852582\n",
      "quick : 0.01284860636083979\n",
      "want : 0.012751589472656784\n",
      "leader : 0.012216763718522117\n",
      "capacity : 0.012203182161546963\n",
      "\n",
      "[Topic 8]\n",
      "stock : 0.03585405365791643\n",
      "finance : 0.0345413882921526\n",
      "white : 0.027059329899661453\n",
      "dan : 0.025603750948926175\n",
      "q : 0.02313041247333707\n",
      "complicate : 0.020661015560073832\n",
      "trust : 0.020142604216971095\n",
      "ini : 0.019370501565060195\n",
      "quote : 0.01898964986396941\n",
      "wife : 0.01716157180700678\n",
      "crackle : 0.016350318296938463\n",
      "murata : 0.01607455274165567\n",
      "supplier : 0.01571600155834047\n",
      "arab : 0.014150862974402172\n",
      "limit : 0.013656971443163024\n",
      "anda : 0.012738443695236875\n",
      "hari : 0.012577921305126055\n",
      "kali : 0.012394704461044157\n",
      "jackpot : 0.01219542364602757\n",
      "doom : 0.011781556661991209\n",
      "\n",
      "[Topic 9]\n",
      "lol : 0.03301548070797941\n",
      "nintendo : 0.023786806892505313\n",
      "love : 0.0235321469320083\n",
      "wait : 0.01920062996033466\n",
      "upsell : 0.018962421686790593\n",
      "okami : 0.0187734724978438\n",
      "patent : 0.018483969696744904\n",
      "pink : 0.01834346037205404\n",
      "hardwick : 0.018191343816844657\n",
      "rating : 0.017932316790226475\n",
      "lesson : 0.01735694558175868\n",
      "silicon : 0.016374992164142396\n",
      "story : 0.016045993431963248\n",
      "valley : 0.01579357132723258\n",
      "syndicate : 0.015691816928065185\n",
      "tim : 0.014261446137632526\n",
      "promo : 0.013799462239500314\n",
      "viral : 0.013332275540478089\n",
      "original : 0.012487001474789717\n",
      "xs : 0.012091667016089382\n",
      "\n"
     ]
    }
   ],
   "source": [
    "# Top 20 words per topic\n",
    "print('Displaying the top %d words per topic and their probabilities within the topic...' % 20)\n",
    "print()\n",
    "\n",
    "for topic_idx in range(best_topics):\n",
    "    print('[Topic ', topic_idx, ']', sep='')\n",
    "    sort_indices = np.argsort(topic_word_distributions[topic_idx])[::-1]\n",
    "    for rank in range(20):\n",
    "        word_idx = sort_indices[rank]\n",
    "        print(word_columns[word_idx], ':', topic_word_distributions[topic_idx, word_idx])\n",
    "    print()\n",
    "\n"
   ]
  },
  {
   "cell_type": "markdown",
   "metadata": {
    "colab_type": "text",
    "id": "jYUTSUij6Def"
   },
   "source": [
    "Topic 0 gives us an idea that users are talking about color of the phone here. Top keywords are 'black' 'color', 'gold' color, 'silver' color, 'warranty' and 'space'.\n",
    "\n",
    "Topic 1 tells us that here users are talking about price, cost etc.\n",
    "\n",
    "Topic 2 tells us that here users are talking about display, design, look, pixel, screen etc.\n",
    "\n",
    "Topic 3 tells us that users here are talking about charge/charging, plug, power, wireless\n",
    "\n",
    "Topic 4 seems irrelevant to our analysis\n",
    "\n",
    "Topic 5 users are talking about charging/power similar to topic 3.\n",
    "\n",
    "Topic 6, 7, 8, 9 seems irrelevant."
   ]
  },
  {
   "cell_type": "markdown",
   "metadata": {
    "colab_type": "text",
    "id": "-0mGcA7t6Deg"
   },
   "source": [
    "#### Experimentation with bigrams (instead of unigrams as per above)"
   ]
  },
  {
   "cell_type": "code",
   "execution_count": 0,
   "metadata": {
    "colab": {},
    "colab_type": "code",
    "id": "VZ0KSSBr6Deg",
    "outputId": "907e2fc5-1af0-4e50-80e9-b15139c566ce"
   },
   "outputs": [
    {
     "name": "stdout",
     "output_type": "stream",
     "text": [
      "Number of features in tf-idf: 4668\n"
     ]
    }
   ],
   "source": [
    "from sklearn.feature_extraction.text import CountVectorizer\n",
    "countvectorizer = CountVectorizer(min_df=50, stop_words=my_stop_words, max_df=0.8, tokenizer=word_tokenizer, ngram_range=(2,2))\n",
    "count_matrix = countvectorizer.fit_transform(corpus)\n",
    "print('Number of features in tf-idf:', len(countvectorizer.vocabulary_)) # a mapping of terms to feature indices"
   ]
  },
  {
   "cell_type": "code",
   "execution_count": 0,
   "metadata": {
    "colab": {},
    "colab_type": "code",
    "id": "Li-IGPza6Dej"
   },
   "outputs": [],
   "source": [
    "count_matrix = count_matrix.toarray()\n",
    "sum_bigrams = count_matrix.sum(axis=0) \n",
    "words_freq = [(word, sum_bigrams[idx]) for word, idx in countvectorizer.vocabulary_.items()]\n",
    "words_freq =sorted(words_freq, key = lambda x: x[1], reverse=True)"
   ]
  },
  {
   "cell_type": "code",
   "execution_count": 0,
   "metadata": {
    "colab": {},
    "colab_type": "code",
    "id": "VJV3lF0x6Del",
    "outputId": "1878c5a1-aba3-4876-eda6-84b87362fd13"
   },
   "outputs": [
    {
     "data": {
      "text/plain": [
       "[('wireless charge', 10643),\n",
       " ('pre order', 6228),\n",
       " ('new x', 3829),\n",
       " ('watch series', 3683),\n",
       " ('new iphones', 3570),\n",
       " ('gb gb', 3536),\n",
       " ('home button', 2675),\n",
       " ('augment reality', 2482),\n",
       " ('new phone', 2421),\n",
       " ('new feature', 2406),\n",
       " ('fast charge', 2285),\n",
       " ('flag irrelevant', 2185),\n",
       " ('portrait light', 1944),\n",
       " ('edge edge', 1775),\n",
       " ('appear \\ufeff1', 1742),\n",
       " ('bionic chip', 1730),\n",
       " ('portrait mode', 1699),\n",
       " ('facial recognition', 1689),\n",
       " ('battery life', 1681),\n",
       " ('charge pad', 1678),\n",
       " ('steve job', 1613),\n",
       " ('new model', 1507),\n",
       " ('dual camera', 1455),\n",
       " ('x come', 1422),\n",
       " ('wireless charger', 1371),\n",
       " ('usb c', 1365),\n",
       " ('x x', 1335),\n",
       " ('tim cook', 1290),\n",
       " ('oled display', 1278),\n",
       " ('brand new', 1278)]"
      ]
     },
     "execution_count": 109,
     "metadata": {
      "tags": []
     },
     "output_type": "execute_result"
    }
   ],
   "source": [
    "words_freq[:30]"
   ]
  },
  {
   "cell_type": "markdown",
   "metadata": {
    "colab_type": "text",
    "id": "EEGWVUM36Den"
   },
   "source": [
    "### Most important attributes for iPhone:\n",
    "The 30 most frequently occuring bigrams in the reviews/post based on the above analysis.\n",
    "This gives us a hint on what features/characteristics of the phone are being discussed by the users the most.\n",
    "Some of the most talked about attributes based on our analysis above were:\n",
    "1. Wireless charging\n",
    "2. Home button (Apple removed home button from iPhone X, so this generated a good amount of discussion among users)\n",
    "3. Fast Charge\n",
    "4. Portrait lighting (New feature introduced in iPhone)\n",
    "5. Bionic Chip (Apple introduced this new feature iPhone 8 onwards)\n",
    "6. Facial recognition (Apple introduced this new feature iPhone 8 onwards)\n",
    "7. Charge Pad (Apple introduced this new feature iPhone 8 onwards)\n",
    "8. Dual Camera\n",
    "9. Oled Display (New OLED screen for iPhone X)"
   ]
  },
  {
   "cell_type": "markdown",
   "metadata": {
    "colab_type": "text",
    "id": "jFC8H4Pb6Deo"
   },
   "source": [
    "#### Perform bigram topic modeling"
   ]
  },
  {
   "cell_type": "code",
   "execution_count": 0,
   "metadata": {
    "colab": {},
    "colab_type": "code",
    "id": "Ook5J9bK6Deo",
    "outputId": "2f79e9cf-794b-44bb-f4ad-a38797d2a808"
   },
   "outputs": [
    {
     "name": "stdout",
     "output_type": "stream",
     "text": [
      "Number of features in tf-idf: 4668\n"
     ]
    }
   ],
   "source": [
    "#constructing a document matrix\n",
    "vectorizer2 = TfidfVectorizer(min_df=50, stop_words=my_stop_words, max_df=0.8, tokenizer=word_tokenizer, ngram_range=(2,2))\n",
    "doc_matrix2 = vectorizer2.fit_transform(corpus)\n",
    "print('Number of features in tf-idf:', len(vectorizer2.vocabulary_)) # a mapping of terms to feature indices"
   ]
  },
  {
   "cell_type": "code",
   "execution_count": 0,
   "metadata": {
    "colab": {},
    "colab_type": "code",
    "id": "FssRqYug6Deu"
   },
   "outputs": [],
   "source": [
    "doc_matrix2 = doc_matrix2.toarray()"
   ]
  },
  {
   "cell_type": "code",
   "execution_count": 0,
   "metadata": {
    "colab": {},
    "colab_type": "code",
    "id": "x_NtOHNE6Dew",
    "outputId": "63de2582-9900-4adc-eea0-1d8eac7a58cf"
   },
   "outputs": [
    {
     "data": {
      "text/plain": [
       "(38405, 4668)"
      ]
     },
     "execution_count": 114,
     "metadata": {
      "tags": []
     },
     "output_type": "execute_result"
    }
   ],
   "source": [
    "doc_matrix2.shape"
   ]
  },
  {
   "cell_type": "markdown",
   "metadata": {
    "colab_type": "text",
    "id": "RnzwziXX6Dez"
   },
   "source": [
    "After feature engineering, we have extract 3324 feature values corresponding to 38405 posts/reviews."
   ]
  },
  {
   "cell_type": "code",
   "execution_count": 0,
   "metadata": {
    "colab": {},
    "colab_type": "code",
    "id": "OTiwr8EG6De4"
   },
   "outputs": [],
   "source": [
    "#constructing feature set\n",
    "feature_set2 = pd.DataFrame(doc_matrix2)"
   ]
  },
  {
   "cell_type": "code",
   "execution_count": 0,
   "metadata": {
    "colab": {},
    "colab_type": "code",
    "id": "Q9XEhdwm6De7"
   },
   "outputs": [],
   "source": [
    "feature_set2.columns = vectorizer2.get_feature_names()"
   ]
  },
  {
   "cell_type": "code",
   "execution_count": 0,
   "metadata": {
    "colab": {},
    "colab_type": "code",
    "id": "tFaZe8dZ6De-",
    "outputId": "bb53aa01-d5f5-4934-abd9-c07445af3650"
   },
   "outputs": [
    {
     "data": {
      "text/html": [
       "<div>\n",
       "<style scoped>\n",
       "    .dataframe tbody tr th:only-of-type {\n",
       "        vertical-align: middle;\n",
       "    }\n",
       "\n",
       "    .dataframe tbody tr th {\n",
       "        vertical-align: top;\n",
       "    }\n",
       "\n",
       "    .dataframe thead th {\n",
       "        text-align: right;\n",
       "    }\n",
       "</style>\n",
       "<table border=\"1\" class=\"dataframe\">\n",
       "  <thead>\n",
       "    <tr style=\"text-align: right;\">\n",
       "      <th></th>\n",
       "      <th>10 anniversary</th>\n",
       "      <th>2 generation</th>\n",
       "      <th>2 new</th>\n",
       "      <th>3 generation</th>\n",
       "      <th>3 party</th>\n",
       "      <th>3 quarter</th>\n",
       "      <th>4 quarter</th>\n",
       "      <th>aapl stock</th>\n",
       "      <th>able charge</th>\n",
       "      <th>able make</th>\n",
       "      <th>...</th>\n",
       "      <th>﻿1 reveal</th>\n",
       "      <th>﻿1 review</th>\n",
       "      <th>﻿1 smartphone</th>\n",
       "      <th>﻿1 smartphones</th>\n",
       "      <th>﻿1 spot</th>\n",
       "      <th>﻿1 thing</th>\n",
       "      <th>﻿1 time</th>\n",
       "      <th>﻿1 version</th>\n",
       "      <th>﻿1 wave</th>\n",
       "      <th>﻿1 x</th>\n",
       "    </tr>\n",
       "  </thead>\n",
       "  <tbody>\n",
       "    <tr>\n",
       "      <th>0</th>\n",
       "      <td>0.000000</td>\n",
       "      <td>0.0</td>\n",
       "      <td>0.0</td>\n",
       "      <td>0.0</td>\n",
       "      <td>0.0</td>\n",
       "      <td>0.0</td>\n",
       "      <td>0.0</td>\n",
       "      <td>0.0</td>\n",
       "      <td>0.0</td>\n",
       "      <td>0.0</td>\n",
       "      <td>...</td>\n",
       "      <td>0.0</td>\n",
       "      <td>0.0</td>\n",
       "      <td>0.0</td>\n",
       "      <td>0.0</td>\n",
       "      <td>0.0</td>\n",
       "      <td>0.0</td>\n",
       "      <td>0.0</td>\n",
       "      <td>0.0</td>\n",
       "      <td>0.0</td>\n",
       "      <td>0.0</td>\n",
       "    </tr>\n",
       "    <tr>\n",
       "      <th>1</th>\n",
       "      <td>0.133166</td>\n",
       "      <td>0.0</td>\n",
       "      <td>0.0</td>\n",
       "      <td>0.0</td>\n",
       "      <td>0.0</td>\n",
       "      <td>0.0</td>\n",
       "      <td>0.0</td>\n",
       "      <td>0.0</td>\n",
       "      <td>0.0</td>\n",
       "      <td>0.0</td>\n",
       "      <td>...</td>\n",
       "      <td>0.0</td>\n",
       "      <td>0.0</td>\n",
       "      <td>0.0</td>\n",
       "      <td>0.0</td>\n",
       "      <td>0.0</td>\n",
       "      <td>0.0</td>\n",
       "      <td>0.0</td>\n",
       "      <td>0.0</td>\n",
       "      <td>0.0</td>\n",
       "      <td>0.0</td>\n",
       "    </tr>\n",
       "    <tr>\n",
       "      <th>2</th>\n",
       "      <td>0.136158</td>\n",
       "      <td>0.0</td>\n",
       "      <td>0.0</td>\n",
       "      <td>0.0</td>\n",
       "      <td>0.0</td>\n",
       "      <td>0.0</td>\n",
       "      <td>0.0</td>\n",
       "      <td>0.0</td>\n",
       "      <td>0.0</td>\n",
       "      <td>0.0</td>\n",
       "      <td>...</td>\n",
       "      <td>0.0</td>\n",
       "      <td>0.0</td>\n",
       "      <td>0.0</td>\n",
       "      <td>0.0</td>\n",
       "      <td>0.0</td>\n",
       "      <td>0.0</td>\n",
       "      <td>0.0</td>\n",
       "      <td>0.0</td>\n",
       "      <td>0.0</td>\n",
       "      <td>0.0</td>\n",
       "    </tr>\n",
       "    <tr>\n",
       "      <th>3</th>\n",
       "      <td>0.136158</td>\n",
       "      <td>0.0</td>\n",
       "      <td>0.0</td>\n",
       "      <td>0.0</td>\n",
       "      <td>0.0</td>\n",
       "      <td>0.0</td>\n",
       "      <td>0.0</td>\n",
       "      <td>0.0</td>\n",
       "      <td>0.0</td>\n",
       "      <td>0.0</td>\n",
       "      <td>...</td>\n",
       "      <td>0.0</td>\n",
       "      <td>0.0</td>\n",
       "      <td>0.0</td>\n",
       "      <td>0.0</td>\n",
       "      <td>0.0</td>\n",
       "      <td>0.0</td>\n",
       "      <td>0.0</td>\n",
       "      <td>0.0</td>\n",
       "      <td>0.0</td>\n",
       "      <td>0.0</td>\n",
       "    </tr>\n",
       "    <tr>\n",
       "      <th>4</th>\n",
       "      <td>0.000000</td>\n",
       "      <td>0.0</td>\n",
       "      <td>0.0</td>\n",
       "      <td>0.0</td>\n",
       "      <td>0.0</td>\n",
       "      <td>0.0</td>\n",
       "      <td>0.0</td>\n",
       "      <td>0.0</td>\n",
       "      <td>0.0</td>\n",
       "      <td>0.0</td>\n",
       "      <td>...</td>\n",
       "      <td>0.0</td>\n",
       "      <td>0.0</td>\n",
       "      <td>0.0</td>\n",
       "      <td>0.0</td>\n",
       "      <td>0.0</td>\n",
       "      <td>0.0</td>\n",
       "      <td>0.0</td>\n",
       "      <td>0.0</td>\n",
       "      <td>0.0</td>\n",
       "      <td>0.0</td>\n",
       "    </tr>\n",
       "  </tbody>\n",
       "</table>\n",
       "<p>5 rows × 4668 columns</p>\n",
       "</div>"
      ],
      "text/plain": [
       "   10 anniversary  2 generation  2 new  3 generation  3 party  3 quarter  \\\n",
       "0        0.000000           0.0    0.0           0.0      0.0        0.0   \n",
       "1        0.133166           0.0    0.0           0.0      0.0        0.0   \n",
       "2        0.136158           0.0    0.0           0.0      0.0        0.0   \n",
       "3        0.136158           0.0    0.0           0.0      0.0        0.0   \n",
       "4        0.000000           0.0    0.0           0.0      0.0        0.0   \n",
       "\n",
       "   4 quarter  aapl stock  able charge  able make  ...   ﻿1 reveal  ﻿1 review  \\\n",
       "0        0.0         0.0          0.0        0.0  ...         0.0        0.0   \n",
       "1        0.0         0.0          0.0        0.0  ...         0.0        0.0   \n",
       "2        0.0         0.0          0.0        0.0  ...         0.0        0.0   \n",
       "3        0.0         0.0          0.0        0.0  ...         0.0        0.0   \n",
       "4        0.0         0.0          0.0        0.0  ...         0.0        0.0   \n",
       "\n",
       "   ﻿1 smartphone  ﻿1 smartphones  ﻿1 spot  ﻿1 thing  ﻿1 time  ﻿1 version  \\\n",
       "0            0.0             0.0      0.0       0.0      0.0         0.0   \n",
       "1            0.0             0.0      0.0       0.0      0.0         0.0   \n",
       "2            0.0             0.0      0.0       0.0      0.0         0.0   \n",
       "3            0.0             0.0      0.0       0.0      0.0         0.0   \n",
       "4            0.0             0.0      0.0       0.0      0.0         0.0   \n",
       "\n",
       "   ﻿1 wave  ﻿1 x  \n",
       "0      0.0   0.0  \n",
       "1      0.0   0.0  \n",
       "2      0.0   0.0  \n",
       "3      0.0   0.0  \n",
       "4      0.0   0.0  \n",
       "\n",
       "[5 rows x 4668 columns]"
      ]
     },
     "execution_count": 118,
     "metadata": {
      "tags": []
     },
     "output_type": "execute_result"
    }
   ],
   "source": [
    "feature_set2.head()"
   ]
  },
  {
   "cell_type": "code",
   "execution_count": 0,
   "metadata": {
    "colab": {},
    "colab_type": "code",
    "id": "MA95tYz86DfE",
    "outputId": "248b3755-f44b-40c6-9735-3ff27af48420"
   },
   "outputs": [
    {
     "data": {
      "text/plain": [
       "LatentDirichletAllocation(batch_size=128, doc_topic_prior=None,\n",
       "             evaluate_every=-1, learning_decay=0.7,\n",
       "             learning_method='online', learning_offset=10.0,\n",
       "             max_doc_update_iter=100, max_iter=10, mean_change_tol=0.001,\n",
       "             n_components=10, n_jobs=-1, n_topics=None, perp_tol=0.1,\n",
       "             random_state=0, topic_word_prior=None,\n",
       "             total_samples=1000000.0, verbose=0)"
      ]
     },
     "execution_count": 119,
     "metadata": {
      "tags": []
     },
     "output_type": "execute_result"
    }
   ],
   "source": [
    "num_topics = 10\n",
    "from sklearn.decomposition import LatentDirichletAllocation\n",
    "lda2 = LatentDirichletAllocation(n_components=num_topics, learning_method='online', max_iter=10, n_jobs=-1 , random_state=0)\n",
    "lda2.fit(doc_matrix2)"
   ]
  },
  {
   "cell_type": "code",
   "execution_count": 0,
   "metadata": {
    "colab": {},
    "colab_type": "code",
    "id": "pz7BU13W6DfI",
    "outputId": "54384df8-3875-4274-b4a4-288afa043478"
   },
   "outputs": [
    {
     "name": "stdout",
     "output_type": "stream",
     "text": [
      "Log Likelihood:  -1118189.9989448085\n"
     ]
    }
   ],
   "source": [
    "print(\"Log Likelihood: \", lda2.score(doc_matrix2))"
   ]
  },
  {
   "cell_type": "code",
   "execution_count": 0,
   "metadata": {
    "colab": {},
    "colab_type": "code",
    "id": "ckW5nz356DfL",
    "outputId": "4573e765-c4ce-40d5-d13b-1c0c045a22a0"
   },
   "outputs": [
    {
     "name": "stdout",
     "output_type": "stream",
     "text": [
      "Perplexity:  8249.049629477855\n"
     ]
    }
   ],
   "source": [
    "print(\"Perplexity: \", lda2.perplexity(doc_matrix2))"
   ]
  },
  {
   "cell_type": "code",
   "execution_count": 0,
   "metadata": {
    "colab": {},
    "colab_type": "code",
    "id": "__cYDk5E6DfQ"
   },
   "outputs": [],
   "source": [
    "# Select the best hyperparameters\n",
    "best_topics2 = 10\n",
    "best_lda_model2 = lda2"
   ]
  },
  {
   "cell_type": "code",
   "execution_count": 0,
   "metadata": {
    "colab": {},
    "colab_type": "code",
    "id": "5Hpv-wht6DfS"
   },
   "outputs": [],
   "source": [
    "# Topic - Word matrix\n",
    "topic_keywords_matrix2 = pd.DataFrame(best_lda_model2.components_)\n",
    "topic_keywords_matrix2.columns = vectorizer2.get_feature_names()"
   ]
  },
  {
   "cell_type": "code",
   "execution_count": 0,
   "metadata": {
    "colab": {},
    "colab_type": "code",
    "id": "qP0ceWEn6DfX"
   },
   "outputs": [],
   "source": [
    "topic_word_distributions2 = np.array([topic_word_pseudocounts / np.sum(topic_word_pseudocounts)\n",
    "                                     for topic_word_pseudocounts in best_lda_model2.components_])"
   ]
  },
  {
   "cell_type": "code",
   "execution_count": 0,
   "metadata": {
    "colab": {},
    "colab_type": "code",
    "id": "Kokdug5R6DfZ"
   },
   "outputs": [],
   "source": [
    "word_columns2 = vectorizer2.get_feature_names()"
   ]
  },
  {
   "cell_type": "code",
   "execution_count": 0,
   "metadata": {
    "colab": {},
    "colab_type": "code",
    "id": "ck_CLQm06Dfc",
    "outputId": "7b1ef51b-2f37-4865-e9de-7cb45521c4dc",
    "scrolled": true
   },
   "outputs": [
    {
     "name": "stdout",
     "output_type": "stream",
     "text": [
      "Displaying the top 20 bigrams per topic and their probabilities within the topic...\n",
      "\n",
      "[Topic 0]\n",
      "wireless charge : 0.01777715387585753\n",
      "fast charge : 0.005707561620969423\n",
      "home button : 0.005619200957530918\n",
      "new x : 0.005398372501192109\n",
      "new iphones : 0.00480258993425143\n",
      "new feature : 0.004261652655317761\n",
      "watch series : 0.004260063519744209\n",
      "battery life : 0.004204906541827839\n",
      "charge pad : 0.004000343630079443\n",
      "bionic chip : 0.0037819184737335715\n",
      "oled display : 0.0037052513743764666\n",
      "facial recognition : 0.0033390255074162135\n",
      "edge edge : 0.003289685871626061\n",
      "dual camera : 0.003283278056528878\n",
      "usb c : 0.003269607419867699\n",
      "qi wireless : 0.0031986219364717925\n",
      "new phone : 0.0031846874940162266\n",
      "x screen : 0.0031141966471887146\n",
      "x new : 0.0030215366906442506\n",
      "augment reality : 0.002967439346028165\n",
      "\n",
      "[Topic 1]\n",
      "gb gb : 0.03762385944149371\n",
      "t mobile : 0.01874271496916777\n",
      "space grey : 0.01840246092550391\n",
      "click expand : 0.01592886398264929\n",
      "reason buy : 0.015287086148785026\n",
      "press release : 0.012144052130992962\n",
      "x tag : 0.01186034899489786\n",
      "make sense : 0.011428131604306014\n",
      "gold silver : 0.011185669310730267\n",
      "gb x : 0.009612922557250797\n",
      "buy instead : 0.009541162214916148\n",
      "gb idr : 0.009488791872972623\n",
      "order x : 0.009434609995557806\n",
      "x gb : 0.00930293733367522\n",
      "grey gb : 0.008380105860010175\n",
      "early month : 0.008249423145602989\n",
      "silver black : 0.008136187753191946\n",
      "release blog : 0.00795947806393744\n",
      "support new : 0.007949153367450409\n",
      "x compare : 0.007947430379486054\n",
      "\n",
      "[Topic 2]\n",
      "view wordpress : 0.01516915329326385\n",
      "wordpress tag : 0.011142057294053076\n",
      "x cost : 0.011084407682524864\n",
      "repair cost : 0.010461507821954702\n",
      "steve job : 0.010063961765172498\n",
      "story watch : 0.009969386694481205\n",
      "conversation story : 0.009621811321003268\n",
      "join conversation : 0.009603545108181538\n",
      "x important : 0.009017556228525967\n",
      "screen repair : 0.00891184053788994\n",
      "x device : 0.007833158801703564\n",
      "watch announce : 0.0077626973491623135\n",
      "plan buy : 0.007459852475847686\n",
      "cost repair : 0.007398801985339411\n",
      "tech insider : 0.007206758638818512\n",
      "like yes : 0.006364975277894009\n",
      "job theater : 0.006302653246049779\n",
      "social medium : 0.006039151765313626\n",
      "double wireless : 0.005870391854396006\n",
      "tech gadget : 0.005470332624200753\n",
      "\n",
      "[Topic 3]\n",
      "pre order : 0.0367942741361525\n",
      "x vs : 0.018229173819462798\n",
      "x pre : 0.013428087963948553\n",
      "buy x : 0.012697034576084428\n",
      "x launch : 0.010380085337237341\n",
      "launch day : 0.008403785174313002\n",
      "vs x : 0.008359200815876662\n",
      "release date : 0.007577479837023744\n",
      "include x : 0.007470432795633398\n",
      "ios device : 0.007412353098381237\n",
      "x available : 0.006939876196166203\n",
      "brand new : 0.006884312128899353\n",
      "appear ﻿1 : 0.0067936578660800365\n",
      "red picture : 0.0064154740272507815\n",
      "ahead x : 0.0061044830376420145\n",
      "people wait : 0.00606742215131575\n",
      "new x : 0.006065973307130645\n",
      "available pre : 0.005905824716179976\n",
      "x production : 0.005744568440631799\n",
      "new ios : 0.005712308997467998\n",
      "\n",
      "[Topic 4]\n",
      "watch series : 0.009976390732677577\n",
      "pre order : 0.008424344894718007\n",
      "pixel xl : 0.00796612751089979\n",
      "launch x : 0.006743084886250254\n",
      "x watch : 0.006360760923148467\n",
      "x price : 0.006017138045293169\n",
      "announce new : 0.00597360980508161\n",
      "release x : 0.005720383445273442\n",
      "new x : 0.00547676867527389\n",
      "phone x : 0.0052433276274147286\n",
      "x release : 0.005082340676331869\n",
      "gb model : 0.005066371289838914\n",
      "x x : 0.004870949980700288\n",
      "wait x : 0.004864324170263605\n",
      "wireless charger : 0.004431993943319008\n",
      "tag ifttt : 0.004392754196807779\n",
      "new model : 0.004354409017870886\n",
      "announce x : 0.004344413471617086\n",
      "unveil new : 0.004324292015832824\n",
      "upcoming x : 0.004256955761630575\n",
      "\n",
      "[Topic 5]\n",
      "wait x : 0.022631219614314073\n",
      "google news : 0.022206278821022774\n",
      "tag ifttt : 0.020434267608786565\n",
      "technology google : 0.02042808135488185\n",
      "google pixel : 0.017994727620403272\n",
      "ifttt tag : 0.01598691155204227\n",
      "fee ifttt : 0.012294987609380881\n",
      "news article : 0.012094114338428674\n",
      "x look : 0.010901292967946811\n",
      "coverage technology : 0.010813969147249313\n",
      "tear x : 0.010505070051334308\n",
      "upgrade x : 0.009685056333560317\n",
      "force restart : 0.009138265139555348\n",
      "compare x : 0.008793762135525773\n",
      "x follow : 0.008716006885858196\n",
      "article technology : 0.00823009142113509\n",
      "wi fi : 0.008119325045843367\n",
      "late iphones : 0.00793082474590451\n",
      "article forum : 0.007159186203082063\n",
      "x vs : 0.007005076857336505\n",
      "\n",
      "[Topic 6]\n",
      "new x : 0.01845351207275172\n",
      "x early : 0.014661865895045128\n",
      "x tech : 0.012515804356585222\n",
      "case x : 0.010324525609612646\n",
      "tech news : 0.01027652703416699\n",
      "read original : 0.009713569900372494\n",
      "x read : 0.009384985023621178\n",
      "x begin : 0.009056008483964591\n",
      "original post : 0.008344906105505649\n",
      "want new : 0.008298202891983481\n",
      "await x : 0.008207057398361929\n",
      "x actually : 0.008069475796140722\n",
      "x announcement : 0.008034323178426266\n",
      "long await : 0.007749218447140597\n",
      "launch month : 0.007376135311276976\n",
      "thing x : 0.007237513006818029\n",
      "make sure : 0.007152039470720113\n",
      "x ready : 0.007126510222274577\n",
      "announcement x : 0.006864795729980973\n",
      "swell battery : 0.006629691124221259\n",
      "\n",
      "[Topic 7]\n",
      "tag x : 0.018665099637521994\n",
      "tech technology : 0.014550602618738065\n",
      "want x : 0.012767396766025646\n",
      "airpods appletv : 0.010861281545403903\n",
      "appletv red : 0.010556565149701215\n",
      "beat photo : 0.010556565149680845\n",
      "picture beat : 0.010556565149680642\n",
      "ios airpods : 0.010556565149671031\n",
      "publish ﻿1 : 0.008542896231318486\n",
      "x event : 0.008444574976048287\n",
      "fan hold : 0.008221432928863242\n",
      "information overload : 0.007783837074654198\n",
      "overload news : 0.007783837074654198\n",
      "x think : 0.006938942437503515\n",
      "smartphone x : 0.006747806933323833\n",
      "tag tech : 0.006542870096404709\n",
      "rss fee : 0.006514280613442105\n",
      "protective case : 0.006307453756539623\n",
      "buy wait : 0.0062063234859421855\n",
      "receive email : 0.005926756019365995\n",
      "\n",
      "[Topic 8]\n",
      "flag irrelevant : 0.030978940699707518\n",
      "augment reality : 0.011661082738129349\n",
      "tim cook : 0.01136735869853837\n",
      "link bio : 0.010229944460782863\n",
      "ming chi : 0.009728043494038647\n",
      "chi kuo : 0.00970624856372086\n",
      "supply chain : 0.008969505134708233\n",
      "demand x : 0.00863925299938879\n",
      "post x : 0.0072906979263332485\n",
      "cut production : 0.007203029888510839\n",
      "analyst ming : 0.0070870885803032\n",
      "x announce : 0.0068646699694821815\n",
      "kgi security : 0.006765120904902963\n",
      "million unit : 0.006365353063468234\n",
      "video x : 0.006239646971532049\n",
      "capital market : 0.006202412541195928\n",
      "coverage flag : 0.006097327642347377\n",
      "x edition : 0.0059349168667481795\n",
      "x unit : 0.005693431110674264\n",
      "high price : 0.005580698483380989\n",
      "\n",
      "[Topic 9]\n",
      "portrait light : 0.02052770099916783\n",
      "x case : 0.019758721601113926\n",
      "gb ram : 0.013363843453209106\n",
      "continue read : 0.009734371336432157\n",
      "low light : 0.009350199449015556\n",
      "x come : 0.008806243167385213\n",
      "case available : 0.008392627566891964\n",
      "like x : 0.008135730268508837\n",
      "car support : 0.007884930348044307\n",
      "light effect : 0.007086515472157515\n",
      "phone like : 0.007041962666465463\n",
      "new video : 0.006985850627826908\n",
      "portrait mode : 0.006970989617306466\n",
      "x include : 0.006427039202337871\n",
      "new pixel : 0.0063420966416683645\n",
      "screen protector : 0.006308424161221779\n",
      "allow user : 0.00605734480695968\n",
      "temper glass : 0.005966556480412648\n",
      "light mode : 0.005964998936192403\n",
      "power button : 0.005724769985985333\n",
      "\n"
     ]
    }
   ],
   "source": [
    "# Top 20 words per topic\n",
    "print('Displaying the top %d bigrams per topic and their probabilities within the topic...' % 20)\n",
    "print()\n",
    "\n",
    "for topic_idx in range(best_topics):\n",
    "    print('[Topic ', topic_idx, ']', sep='')\n",
    "    sort_indices2 = np.argsort(topic_word_distributions2[topic_idx])[::-1]\n",
    "    for rank in range(20):\n",
    "        word_idx = sort_indices2[rank]\n",
    "        print(word_columns2[word_idx], ':', topic_word_distributions2[topic_idx, word_idx])\n",
    "    print()\n",
    "\n"
   ]
  },
  {
   "cell_type": "markdown",
   "metadata": {
    "colab_type": "text",
    "id": "FIGbFJxT6Dff"
   },
   "source": [
    "### 2. Galaxy S8 Analysis"
   ]
  },
  {
   "cell_type": "code",
   "execution_count": 0,
   "metadata": {
    "colab": {},
    "colab_type": "code",
    "id": "vr5tFQVL6Dfg"
   },
   "outputs": [],
   "source": [
    "# load text corpus\n",
    "# samsung_data\n",
    "df = pd.read_csv('./Cleaned/samsung_data.csv', encoding='utf-8')"
   ]
  },
  {
   "cell_type": "markdown",
   "metadata": {
    "colab_type": "text",
    "id": "VkuuqUCw6Dfi"
   },
   "source": [
    "#### Sources of Galaxy S8 posts:"
   ]
  },
  {
   "cell_type": "code",
   "execution_count": 0,
   "metadata": {
    "colab": {},
    "colab_type": "code",
    "id": "TayZGeDt6Dfk",
    "outputId": "d526aac2-59ac-4d02-9ad4-3cfc3fca84de"
   },
   "outputs": [
    {
     "data": {
      "text/plain": [
       "<matplotlib.axes._subplots.AxesSubplot at 0x7f8aa1d57fd0>"
      ]
     },
     "execution_count": 131,
     "metadata": {
      "tags": []
     },
     "output_type": "execute_result"
    },
    {
     "data": {
      "image/png": "[encoded data removed]",
      "text/plain": [
       "<Figure size 432x288 with 1 Axes>"
      ]
     },
     "metadata": {
      "tags": []
     },
     "output_type": "display_data"
    }
   ],
   "source": [
    "df['Source Type'].value_counts().plot('bar')"
   ]
  },
  {
   "cell_type": "markdown",
   "metadata": {
    "colab_type": "text",
    "id": "tt6Y2NBn6Dfm"
   },
   "source": [
    "As we can see majority of the reviews/posts come from blogs."
   ]
  },
  {
   "cell_type": "code",
   "execution_count": 0,
   "metadata": {
    "colab": {},
    "colab_type": "code",
    "id": "gyXKKKPa6Dfn"
   },
   "outputs": [],
   "source": [
    "corpus = list(df['Sound Bite Text'])"
   ]
  },
  {
   "cell_type": "code",
   "execution_count": 0,
   "metadata": {
    "colab": {},
    "colab_type": "code",
    "id": "5mpr8YMF6Dfo",
    "outputId": "a2091266-2f80-4b28-a302-9ce53a3f4eca",
    "scrolled": false
   },
   "outputs": [
    {
     "data": {
      "text/plain": [
       "'Samsung Galaxy S8 G950U G950P Sprint unlock by usb cable On Cell Phone Forums Need to unlock a S8 Sprint ? Find here an exclusive Sprint Samsung Galaxy S8 G950U G950P unlock method, available for this phone model that cannot be unlocked by unlock codes. This Samsung Galaxy S8 unlock service is the only option to unlock this phone model and make it work both in the USA and abroad on any gsm network. The SM-G950U G950P unlock is done online by USB cable, not by codes calculated from IMEI. ... Supported models - Sprint Samsung Galaxy S8 G950U G950P HOW THE SAMSUNG GALAXY S8 UNLOCK IS DONE? Important: We are available according to our Online program , there is shown if are available at a certain time. After buying this Sprint Samsung s8 unlock service, you will receive in a few minutes the instructions about how to prepare your computer and phone before the online unlock (some simple steps in our video tutorial, takes less than 5 min).'"
      ]
     },
     "execution_count": 133,
     "metadata": {
      "tags": []
     },
     "output_type": "execute_result"
    }
   ],
   "source": [
    "corpus[0]"
   ]
  },
  {
   "cell_type": "code",
   "execution_count": 0,
   "metadata": {
    "colab": {},
    "colab_type": "code",
    "id": "9qQbIo8e6Dfq",
    "outputId": "e51f13f5-8210-4ce1-e382-6d0223938aef"
   },
   "outputs": [
    {
     "data": {
      "text/plain": [
       "159419"
      ]
     },
     "execution_count": 134,
     "metadata": {
      "tags": []
     },
     "output_type": "execute_result"
    }
   ],
   "source": [
    "len(corpus)"
   ]
  },
  {
   "cell_type": "markdown",
   "metadata": {
    "colab_type": "text",
    "id": "8b4p8tPG6Dfu"
   },
   "source": [
    "There 159419 reviews/posts on Samsung"
   ]
  },
  {
   "cell_type": "code",
   "execution_count": 0,
   "metadata": {
    "colab": {},
    "colab_type": "code",
    "id": "0YBrVoRG6Dfu"
   },
   "outputs": [],
   "source": [
    "import spacy \n",
    "nlp = spacy.load('en', disable=['ner', 'parser', 'tagger']) #disabling to optimize loading time\n",
    "\n",
    "def word_tokenizer(doc):\n",
    "    parsed_doc = nlp(doc)\n",
    "    return([token.lemma_.lower() for token in parsed_doc if re.match('[a-zA-Z]+$', token.orth_) and token.lemma_ != '-PRON-'])"
   ]
  },
  {
   "cell_type": "code",
   "execution_count": 0,
   "metadata": {
    "colab": {},
    "colab_type": "code",
    "id": "eSQJJAiQ6Dfv"
   },
   "outputs": [],
   "source": [
    "from sklearn.feature_extraction import text\n",
    "my_stop_words = text.ENGLISH_STOP_WORDS.union(['android', 'samsung', 'galaxy'])"
   ]
  },
  {
   "cell_type": "code",
   "execution_count": 0,
   "metadata": {
    "colab": {},
    "colab_type": "code",
    "id": "wgGkAkAI6Dfx",
    "outputId": "2eee0cec-a283-4226-d488-03dccf0840b9"
   },
   "outputs": [
    {
     "name": "stdout",
     "output_type": "stream",
     "text": [
      "Number of features in tf-idf: 5893\n"
     ]
    }
   ],
   "source": [
    "#constructing a document matrix\n",
    "from sklearn.feature_extraction.text import TfidfVectorizer\n",
    "vectorizer = TfidfVectorizer(min_df=50, stop_words=my_stop_words, max_df=0.8, tokenizer=word_tokenizer, max_features=10000)\n",
    "doc_matrix = vectorizer.fit_transform(corpus)\n",
    "print('Number of features in tf-idf:', len(vectorizer.vocabulary_)) # a mapping of terms to feature indices"
   ]
  },
  {
   "cell_type": "code",
   "execution_count": 0,
   "metadata": {
    "colab": {},
    "colab_type": "code",
    "id": "PxMz9xfR6Df5"
   },
   "outputs": [],
   "source": [
    "doc_matrix = doc_matrix.toarray()"
   ]
  },
  {
   "cell_type": "code",
   "execution_count": 0,
   "metadata": {
    "colab": {},
    "colab_type": "code",
    "id": "cuKVSKdn6Df7",
    "outputId": "32bd8193-a870-47bb-a435-15c0d0551954"
   },
   "outputs": [
    {
     "data": {
      "text/plain": [
       "(159419, 5893)"
      ]
     },
     "execution_count": 150,
     "metadata": {
      "tags": []
     },
     "output_type": "execute_result"
    }
   ],
   "source": [
    "doc_matrix.shape"
   ]
  },
  {
   "cell_type": "markdown",
   "metadata": {
    "colab_type": "text",
    "id": "AME0SVSN6Df-"
   },
   "source": [
    "After feature engineering, we have extract 3324 feature values corresponding to 38405 posts/reviews."
   ]
  },
  {
   "cell_type": "code",
   "execution_count": 0,
   "metadata": {
    "colab": {},
    "colab_type": "code",
    "id": "n0vhY0nv6DgB"
   },
   "outputs": [],
   "source": [
    "#constructing feature set\n",
    "feature_set = pd.DataFrame(doc_matrix)"
   ]
  },
  {
   "cell_type": "code",
   "execution_count": 0,
   "metadata": {
    "colab": {},
    "colab_type": "code",
    "id": "MhrMJ1Zz6DgD"
   },
   "outputs": [],
   "source": [
    "feature_set.columns = vectorizer.get_feature_names()"
   ]
  },
  {
   "cell_type": "code",
   "execution_count": 0,
   "metadata": {
    "colab": {},
    "colab_type": "code",
    "id": "FfXVDDh86DgE",
    "outputId": "eb24a894-eb5f-4d1e-e758-7bf1af4da9ad"
   },
   "outputs": [
    {
     "data": {
      "text/html": [
       "<div>\n",
       "<style scoped>\n",
       "    .dataframe tbody tr th:only-of-type {\n",
       "        vertical-align: middle;\n",
       "    }\n",
       "\n",
       "    .dataframe tbody tr th {\n",
       "        vertical-align: top;\n",
       "    }\n",
       "\n",
       "    .dataframe thead th {\n",
       "        text-align: right;\n",
       "    }\n",
       "</style>\n",
       "<table border=\"1\" class=\"dataframe\">\n",
       "  <thead>\n",
       "    <tr style=\"text-align: right;\">\n",
       "      <th></th>\n",
       "      <th>2</th>\n",
       "      <th>3</th>\n",
       "      <th>4</th>\n",
       "      <th>5</th>\n",
       "      <th>8</th>\n",
       "      <th>a.m.</th>\n",
       "      <th>abandon</th>\n",
       "      <th>abhijeet</th>\n",
       "      <th>ability</th>\n",
       "      <th>able</th>\n",
       "      <th>...</th>\n",
       "      <th>zenfone</th>\n",
       "      <th>zenpad</th>\n",
       "      <th>zero</th>\n",
       "      <th>zip</th>\n",
       "      <th>zipper</th>\n",
       "      <th>zone</th>\n",
       "      <th>zoom</th>\n",
       "      <th>zooper</th>\n",
       "      <th>zte</th>\n",
       "      <th>﻿1</th>\n",
       "    </tr>\n",
       "  </thead>\n",
       "  <tbody>\n",
       "    <tr>\n",
       "      <th>0</th>\n",
       "      <td>0.0</td>\n",
       "      <td>0.0</td>\n",
       "      <td>0.0</td>\n",
       "      <td>0.0</td>\n",
       "      <td>0.0</td>\n",
       "      <td>0.0</td>\n",
       "      <td>0.0</td>\n",
       "      <td>0.0</td>\n",
       "      <td>0.0</td>\n",
       "      <td>0.0</td>\n",
       "      <td>...</td>\n",
       "      <td>0.0</td>\n",
       "      <td>0.0</td>\n",
       "      <td>0.0</td>\n",
       "      <td>0.0</td>\n",
       "      <td>0.0</td>\n",
       "      <td>0.0</td>\n",
       "      <td>0.0</td>\n",
       "      <td>0.0</td>\n",
       "      <td>0.0</td>\n",
       "      <td>0.000000</td>\n",
       "    </tr>\n",
       "    <tr>\n",
       "      <th>1</th>\n",
       "      <td>0.0</td>\n",
       "      <td>0.0</td>\n",
       "      <td>0.0</td>\n",
       "      <td>0.0</td>\n",
       "      <td>0.0</td>\n",
       "      <td>0.0</td>\n",
       "      <td>0.0</td>\n",
       "      <td>0.0</td>\n",
       "      <td>0.0</td>\n",
       "      <td>0.0</td>\n",
       "      <td>...</td>\n",
       "      <td>0.0</td>\n",
       "      <td>0.0</td>\n",
       "      <td>0.0</td>\n",
       "      <td>0.0</td>\n",
       "      <td>0.0</td>\n",
       "      <td>0.0</td>\n",
       "      <td>0.0</td>\n",
       "      <td>0.0</td>\n",
       "      <td>0.0</td>\n",
       "      <td>0.324986</td>\n",
       "    </tr>\n",
       "    <tr>\n",
       "      <th>2</th>\n",
       "      <td>0.0</td>\n",
       "      <td>0.0</td>\n",
       "      <td>0.0</td>\n",
       "      <td>0.0</td>\n",
       "      <td>0.0</td>\n",
       "      <td>0.0</td>\n",
       "      <td>0.0</td>\n",
       "      <td>0.0</td>\n",
       "      <td>0.0</td>\n",
       "      <td>0.0</td>\n",
       "      <td>...</td>\n",
       "      <td>0.0</td>\n",
       "      <td>0.0</td>\n",
       "      <td>0.0</td>\n",
       "      <td>0.0</td>\n",
       "      <td>0.0</td>\n",
       "      <td>0.0</td>\n",
       "      <td>0.0</td>\n",
       "      <td>0.0</td>\n",
       "      <td>0.0</td>\n",
       "      <td>0.000000</td>\n",
       "    </tr>\n",
       "    <tr>\n",
       "      <th>3</th>\n",
       "      <td>0.0</td>\n",
       "      <td>0.0</td>\n",
       "      <td>0.0</td>\n",
       "      <td>0.0</td>\n",
       "      <td>0.0</td>\n",
       "      <td>0.0</td>\n",
       "      <td>0.0</td>\n",
       "      <td>0.0</td>\n",
       "      <td>0.0</td>\n",
       "      <td>0.0</td>\n",
       "      <td>...</td>\n",
       "      <td>0.0</td>\n",
       "      <td>0.0</td>\n",
       "      <td>0.0</td>\n",
       "      <td>0.0</td>\n",
       "      <td>0.0</td>\n",
       "      <td>0.0</td>\n",
       "      <td>0.0</td>\n",
       "      <td>0.0</td>\n",
       "      <td>0.0</td>\n",
       "      <td>0.000000</td>\n",
       "    </tr>\n",
       "    <tr>\n",
       "      <th>4</th>\n",
       "      <td>0.0</td>\n",
       "      <td>0.0</td>\n",
       "      <td>0.0</td>\n",
       "      <td>0.0</td>\n",
       "      <td>0.0</td>\n",
       "      <td>0.0</td>\n",
       "      <td>0.0</td>\n",
       "      <td>0.0</td>\n",
       "      <td>0.0</td>\n",
       "      <td>0.0</td>\n",
       "      <td>...</td>\n",
       "      <td>0.0</td>\n",
       "      <td>0.0</td>\n",
       "      <td>0.0</td>\n",
       "      <td>0.0</td>\n",
       "      <td>0.0</td>\n",
       "      <td>0.0</td>\n",
       "      <td>0.0</td>\n",
       "      <td>0.0</td>\n",
       "      <td>0.0</td>\n",
       "      <td>0.000000</td>\n",
       "    </tr>\n",
       "  </tbody>\n",
       "</table>\n",
       "<p>5 rows × 5893 columns</p>\n",
       "</div>"
      ],
      "text/plain": [
       "     2    3    4    5    8  a.m.  abandon  abhijeet  ability  able    ...     \\\n",
       "0  0.0  0.0  0.0  0.0  0.0   0.0      0.0       0.0      0.0   0.0    ...      \n",
       "1  0.0  0.0  0.0  0.0  0.0   0.0      0.0       0.0      0.0   0.0    ...      \n",
       "2  0.0  0.0  0.0  0.0  0.0   0.0      0.0       0.0      0.0   0.0    ...      \n",
       "3  0.0  0.0  0.0  0.0  0.0   0.0      0.0       0.0      0.0   0.0    ...      \n",
       "4  0.0  0.0  0.0  0.0  0.0   0.0      0.0       0.0      0.0   0.0    ...      \n",
       "\n",
       "   zenfone  zenpad  zero  zip  zipper  zone  zoom  zooper  zte        ﻿1  \n",
       "0      0.0     0.0   0.0  0.0     0.0   0.0   0.0     0.0  0.0  0.000000  \n",
       "1      0.0     0.0   0.0  0.0     0.0   0.0   0.0     0.0  0.0  0.324986  \n",
       "2      0.0     0.0   0.0  0.0     0.0   0.0   0.0     0.0  0.0  0.000000  \n",
       "3      0.0     0.0   0.0  0.0     0.0   0.0   0.0     0.0  0.0  0.000000  \n",
       "4      0.0     0.0   0.0  0.0     0.0   0.0   0.0     0.0  0.0  0.000000  \n",
       "\n",
       "[5 rows x 5893 columns]"
      ]
     },
     "execution_count": 154,
     "metadata": {
      "tags": []
     },
     "output_type": "execute_result"
    }
   ],
   "source": [
    "feature_set.head()"
   ]
  },
  {
   "cell_type": "code",
   "execution_count": 0,
   "metadata": {
    "colab": {},
    "colab_type": "code",
    "id": "CKmYDyHq6DgG",
    "outputId": "d5f0ee24-4088-400f-e97f-ab7114286456"
   },
   "outputs": [
    {
     "data": {
      "text/plain": [
       "LatentDirichletAllocation(batch_size=128, doc_topic_prior=None,\n",
       "             evaluate_every=-1, learning_decay=0.7,\n",
       "             learning_method='online', learning_offset=10.0,\n",
       "             max_doc_update_iter=100, max_iter=10, mean_change_tol=0.001,\n",
       "             n_components=10, n_jobs=-1, n_topics=None, perp_tol=0.1,\n",
       "             random_state=0, topic_word_prior=None,\n",
       "             total_samples=1000000.0, verbose=0)"
      ]
     },
     "execution_count": 155,
     "metadata": {
      "tags": []
     },
     "output_type": "execute_result"
    }
   ],
   "source": [
    "num_topics = 10\n",
    "from sklearn.decomposition import LatentDirichletAllocation\n",
    "lda = LatentDirichletAllocation(n_components=num_topics, learning_method='online', max_iter=10, n_jobs=-1 , random_state=0)\n",
    "lda.fit(doc_matrix)"
   ]
  },
  {
   "cell_type": "code",
   "execution_count": 0,
   "metadata": {
    "colab": {},
    "colab_type": "code",
    "id": "GK2YZk6p6DgI",
    "outputId": "e43d35f9-1ae5-4bc7-8ea0-6e7a3e0076d1"
   },
   "outputs": [
    {
     "name": "stdout",
     "output_type": "stream",
     "text": [
      "Log Likelihood:  -5798516.057844428\n"
     ]
    }
   ],
   "source": [
    "print(\"Log Likelihood: \", lda.score(doc_matrix))"
   ]
  },
  {
   "cell_type": "code",
   "execution_count": 0,
   "metadata": {
    "colab": {},
    "colab_type": "code",
    "id": "YiKFF1nS6DgL",
    "outputId": "74bb0b1c-e386-4de1-92f3-ea6cfac9f5cf"
   },
   "outputs": [
    {
     "name": "stdout",
     "output_type": "stream",
     "text": [
      "Perplexity:  4538.315328002736\n"
     ]
    }
   ],
   "source": [
    "print(\"Perplexity: \", lda.perplexity(doc_matrix))"
   ]
  },
  {
   "cell_type": "code",
   "execution_count": 0,
   "metadata": {
    "colab": {},
    "colab_type": "code",
    "id": "eTI1a1mh6DgP"
   },
   "outputs": [],
   "source": [
    "# Select the best hyperparameters\n",
    "best_topics = 10\n",
    "best_lda_model = lda"
   ]
  },
  {
   "cell_type": "code",
   "execution_count": 0,
   "metadata": {
    "colab": {},
    "colab_type": "code",
    "id": "76oK1ZT_6DgU"
   },
   "outputs": [],
   "source": [
    "# Topic - Word matrix\n",
    "topic_keywords_matrix = pd.DataFrame(best_lda_model.components_)\n",
    "topic_keywords_matrix.columns = vectorizer.get_feature_names()"
   ]
  },
  {
   "cell_type": "code",
   "execution_count": 0,
   "metadata": {
    "colab": {},
    "colab_type": "code",
    "id": "LGhROdfc6DgW"
   },
   "outputs": [],
   "source": [
    "topic_word_distributions = np.array([topic_word_pseudocounts / np.sum(topic_word_pseudocounts)\n",
    "                                     for topic_word_pseudocounts in best_lda_model.components_])"
   ]
  },
  {
   "cell_type": "code",
   "execution_count": 0,
   "metadata": {
    "colab": {},
    "colab_type": "code",
    "id": "0-SHCFed6DgX"
   },
   "outputs": [],
   "source": [
    "word_columns = vectorizer.get_feature_names()"
   ]
  },
  {
   "cell_type": "markdown",
   "metadata": {
    "colab_type": "text",
    "id": "2DjcqbMh6Dga"
   },
   "source": [
    "#### Classify posts based on common themes"
   ]
  },
  {
   "cell_type": "code",
   "execution_count": 0,
   "metadata": {
    "colab": {},
    "colab_type": "code",
    "id": "P1RjS4fL6Dga",
    "outputId": "2f44be75-6dbe-4620-a1b5-20524ff18cda",
    "scrolled": false
   },
   "outputs": [
    {
     "name": "stdout",
     "output_type": "stream",
     "text": [
      "Displaying the top 20 words per topic and their probabilities within the topic...\n",
      "\n",
      "[Topic 0]\n",
      "order : 0.025629200779942435\n",
      "pre : 0.023921682668846124\n",
      "red : 0.0200222946339203\n",
      "update : 0.019982828284417258\n",
      "tint : 0.017059332137557472\n",
      "mobile : 0.016332604114190775\n",
      "fix : 0.014775292640924982\n",
      "issue : 0.014586623602296258\n",
      "t : 0.014016315097136106\n",
      "april : 0.012957829245554362\n",
      "unlock : 0.011438362430679635\n",
      "carrier : 0.011053283721860265\n",
      "available : 0.010391017561181994\n",
      "verizon : 0.00990162520947982\n",
      "preorder : 0.009302892980303549\n",
      "start : 0.009047962760063819\n",
      "plus : 0.008824077481106484\n",
      "free : 0.007711189121191785\n",
      "buy : 0.007628000092502139\n",
      "customer : 0.007606230136410973\n",
      "\n",
      "[Topic 1]\n",
      "dex : 0.05082160971296733\n",
      "desktop : 0.030507896922510797\n",
      "dock : 0.028539222046489263\n",
      "cnet : 0.026972042363368698\n",
      "send : 0.024042807306729905\n",
      "icon : 0.023636572949141302\n",
      "launcher : 0.022831299760820677\n",
      "use : 0.022076469307822748\n",
      "station : 0.02028452643008502\n",
      "gagt : 0.01979355103667749\n",
      "pc : 0.012929465571382692\n",
      "theme : 0.012714763966309647\n",
      "pic : 0.011716710352179905\n",
      "oneplus : 0.011575105289503715\n",
      "blow : 0.01039817042052308\n",
      "keyboard : 0.009945257780014235\n",
      "linux : 0.009722364676153268\n",
      "exo : 0.009395714416167291\n",
      "monitor : 0.009296862889490732\n",
      "snapchat : 0.008726528030189203\n",
      "\n",
      "[Topic 2]\n",
      "twitter : 0.09948925415844262\n",
      "tag : 0.0735915278124991\n",
      "ifttt : 0.07187079477700534\n",
      "rt : 0.031373806155106945\n",
      "tech : 0.02957588264737773\n",
      "trend : 0.02553501737342278\n",
      "canada : 0.023853412077789835\n",
      "wallpaper : 0.023646846821076786\n",
      "central : 0.01639424999864219\n",
      "sky : 0.01453942024849919\n",
      "authority : 0.013805131854674269\n",
      "pocketnow : 0.013249517708734315\n",
      "tweet : 0.011512189573575934\n",
      "androidauth : 0.011374590301579997\n",
      "phandroid : 0.010928041369318013\n",
      "facebookpages : 0.010259588275808269\n",
      "sunset : 0.008963168392543094\n",
      "review : 0.008735166248242431\n",
      "literally : 0.007919459969613046\n",
      "fact : 0.007045931190551231\n",
      "\n",
      "[Topic 3]\n",
      "sm : 0.047780676897771344\n",
      "gb : 0.04319419927614894\n",
      "black : 0.04154046246260742\n",
      "unlock : 0.03313379170419474\n",
      "midnight : 0.030762633924182325\n",
      "buy : 0.021442947560195318\n",
      "new : 0.0185181812707691\n",
      "hot : 0.01828007736677942\n",
      "cell : 0.017397962091330457\n",
      "smartphone : 0.016939770356931796\n",
      "gray : 0.015954727478019994\n",
      "plus : 0.015169571043869342\n",
      "usa : 0.013381793164040492\n",
      "gold : 0.012228758265259288\n",
      "hardwarezone : 0.011923305911720295\n",
      "silver : 0.011901509917271411\n",
      "factory : 0.01106312166319571\n",
      "verizon : 0.01065469502581019\n",
      "blue : 0.01029271379056016\n",
      "edition : 0.00951095237791331\n",
      "\n",
      "[Topic 4]\n",
      "gb : 0.037486592054155644\n",
      "ram : 0.021726597125692092\n",
      "protector : 0.017953590075589426\n",
      "nokia : 0.01718515443263322\n",
      "camera : 0.014914665052254007\n",
      "snapdragon : 0.01461055814721028\n",
      "dual : 0.013311941763593441\n",
      "leak : 0.012460963015819091\n",
      "active : 0.012069960365180299\n",
      "oneplus : 0.012042996803531601\n",
      "storage : 0.011899592616774386\n",
      "price : 0.009806549826336946\n",
      "glass : 0.009771624394529214\n",
      "processor : 0.009660444310400623\n",
      "sim : 0.009451270598235676\n",
      "screen : 0.00926240709046109\n",
      "exynos : 0.008959732435901518\n",
      "qualcomm : 0.008744810961050797\n",
      "variant : 0.008638023488809774\n",
      "core : 0.008193271483404041\n",
      "\n",
      "[Topic 5]\n",
      "vs : 0.03732839682019339\n",
      "tag : 0.03724716307955657\n",
      "plus : 0.03677043111377488\n",
      "review : 0.027966582731792967\n",
      "samsunggalaxy : 0.02790934906672396\n",
      "video : 0.025052012817627683\n",
      "tech : 0.024406775087481437\n",
      "news : 0.02372713099100591\n",
      "google : 0.02100027504386046\n",
      "unboxing : 0.0206372677433747\n",
      "unboxyourphone : 0.020268909665089384\n",
      "flag : 0.019463355696413682\n",
      "lg : 0.01865277569126849\n",
      "irrelevant : 0.01865003478663751\n",
      "youtube : 0.018225979640022347\n",
      "gadget : 0.017918126872637528\n",
      "smartphone : 0.016783183650173766\n",
      "comparison : 0.01659543457594826\n",
      "crash : 0.016574982580934348\n",
      "phone : 0.01580066723909783\n",
      "\n",
      "[Topic 6]\n",
      "case : 0.06916029000863662\n",
      "charge : 0.020825427868707277\n",
      "plus : 0.01983616639631788\n",
      "cover : 0.019186817704493882\n",
      "work : 0.01864295342132865\n",
      "charger : 0.015555918883688544\n",
      "fit : 0.012587637551242429\n",
      "cable : 0.010544185366986931\n",
      "protection : 0.010452880336884114\n",
      "wireless : 0.010160425267176277\n",
      "phone : 0.009975415122745981\n",
      "great : 0.009903877282459634\n",
      "drop : 0.009891423120508697\n",
      "leather : 0.009634579866624528\n",
      "spigen : 0.00952876483793333\n",
      "fast : 0.009238725967594189\n",
      "protect : 0.008935015180624438\n",
      "orchid : 0.008620234042130723\n",
      "good : 0.008144529089332716\n",
      "tpu : 0.007981544949822865\n",
      "\n",
      "[Topic 7]\n",
      "phone : 0.009515392409287065\n",
      "new : 0.00859758154970041\n",
      "display : 0.005731316122863418\n",
      "launch : 0.005715067536826397\n",
      "screen : 0.00550505426784757\n",
      "device : 0.005393550226497029\n",
      "bixby : 0.005326982797831303\n",
      "note : 0.005305034546894121\n",
      "feature : 0.0049290264482895465\n",
      "﻿1 : 0.004754393049320687\n",
      "flagship : 0.0046087435141167555\n",
      "make : 0.004385665366805055\n",
      "smartphone : 0.004299481713947154\n",
      "like : 0.0042276195988919015\n",
      "come : 0.004179053585469187\n",
      "look : 0.004160609016774414\n",
      "year : 0.00408333136872767\n",
      "camera : 0.0039859590708253515\n",
      "just : 0.003921727729671118\n",
      "good : 0.0038409114607552727\n",
      "\n",
      "[Topic 8]\n",
      "love : 0.02230886253618591\n",
      "otterbox : 0.01935389154278483\n",
      "amaze : 0.018622363568244083\n",
      "photography : 0.018495260591904313\n",
      "shoot : 0.018322635379162056\n",
      "photo : 0.016716859196319964\n",
      "instagood : 0.013504672947735526\n",
      "spring : 0.012753208340096134\n",
      "recovery : 0.01221458020534909\n",
      "photooftheday : 0.011328562795161048\n",
      "nature : 0.011325147818411752\n",
      "tutorial : 0.01129770992154491\n",
      "cute : 0.011131808759521886\n",
      "beautiful : 0.010392023995140715\n",
      "tag : 0.010240277712328112\n",
      "samsunggalaxy : 0.009447937630440122\n",
      "picture : 0.00929289084685844\n",
      "lol : 0.009273849541039868\n",
      "happy : 0.00878375647831126\n",
      "nofilter : 0.008709405205897575\n",
      "\n",
      "[Topic 9]\n",
      "app : 0.014934176382772875\n",
      "use : 0.009283640279277566\n",
      "button : 0.009096391222315255\n",
      "work : 0.007235155303009214\n",
      "bixby : 0.006658602120881599\n",
      "phone : 0.006391407875892996\n",
      "download : 0.0055541712016843985\n",
      "user : 0.005217064341355947\n",
      "play : 0.00512353173012694\n",
      "google : 0.004778909594207152\n",
      "update : 0.004741245260947795\n",
      "iris : 0.004574852281995002\n",
      "new : 0.004500541659447313\n",
      "try : 0.004368627323125851\n",
      "music : 0.0043291356212816715\n",
      "recognition : 0.004311893852065395\n",
      "game : 0.004291029451961403\n",
      "scanner : 0.004032503766164054\n",
      "microsoft : 0.003947638253331034\n",
      "message : 0.003914852082678205\n",
      "\n"
     ]
    }
   ],
   "source": [
    "# Top 20 words per topic\n",
    "print('Displaying the top %d words per topic and their probabilities within the topic...' % 20)\n",
    "print()\n",
    "\n",
    "for topic_idx in range(best_topics):\n",
    "    print('[Topic ', topic_idx, ']', sep='')\n",
    "    sort_indices = np.argsort(topic_word_distributions[topic_idx])[::-1]\n",
    "    for rank in range(20):\n",
    "        word_idx = sort_indices[rank]\n",
    "        print(word_columns[word_idx], ':', topic_word_distributions[topic_idx, word_idx])\n",
    "    print()"
   ]
  },
  {
   "cell_type": "markdown",
   "metadata": {
    "colab_type": "text",
    "id": "CA4-Ora76Dgd"
   },
   "source": [
    "#### Experimentation with bigrams (instead of unigrams as per above)"
   ]
  },
  {
   "cell_type": "code",
   "execution_count": 0,
   "metadata": {
    "colab": {},
    "colab_type": "code",
    "id": "Pbj2m6gg6Dgd",
    "outputId": "4bf9dfcb-3d0c-4d99-b765-4c78f88a91c9"
   },
   "outputs": [
    {
     "name": "stdout",
     "output_type": "stream",
     "text": [
      "Number of features in tf-idf: 10000\n"
     ]
    }
   ],
   "source": [
    "from sklearn.feature_extraction.text import CountVectorizer\n",
    "countvectorizer = CountVectorizer(min_df=50, stop_words=my_stop_words, max_df=0.8, tokenizer=word_tokenizer, ngram_range=(2,2), max_features=10000)\n",
    "count_matrix = countvectorizer.fit_transform(corpus)\n",
    "print('Number of features in tf-idf:', len(countvectorizer.vocabulary_)) # a mapping of terms to feature indices"
   ]
  },
  {
   "cell_type": "code",
   "execution_count": 0,
   "metadata": {
    "colab": {},
    "colab_type": "code",
    "id": "rAa1SPu46Dgg"
   },
   "outputs": [],
   "source": [
    "count_matrix = count_matrix.toarray()\n",
    "sum_bigrams = count_matrix.sum(axis=0) \n",
    "words_freq = [(word, sum_bigrams[idx]) for word, idx in countvectorizer.vocabulary_.items()]\n",
    "words_freq =sorted(words_freq, key = lambda x: x[1], reverse=True)"
   ]
  },
  {
   "cell_type": "code",
   "execution_count": 0,
   "metadata": {
    "colab": {},
    "colab_type": "code",
    "id": "3FAsekh16Dgi",
    "outputId": "abe5de39-43e2-453a-9cae-1d946881cad4"
   },
   "outputs": [
    {
     "data": {
      "text/plain": [
       "[('pre order', 13278),\n",
       " ('gb ram', 8942),\n",
       " ('t mobile', 8295),\n",
       " ('appear \\ufeff1', 7467),\n",
       " ('infinity display', 6357),\n",
       " ('new phone', 5603),\n",
       " ('new flagship', 5374),\n",
       " ('gear vr', 5336),\n",
       " ('screen protector', 4944),\n",
       " ('google pixel', 4895),\n",
       " ('home button', 4839),\n",
       " ('tag ifttt', 4769),\n",
       " ('iris scanner', 4667),\n",
       " ('pixel xl', 4478),\n",
       " ('bixby button', 4340),\n",
       " ('look like', 4275),\n",
       " ('fingerprint sensor', 4090),\n",
       " ('south korea', 3956),\n",
       " ('bixby voice', 3814),\n",
       " ('ram gb', 3799),\n",
       " ('flag irrelevant', 3799),\n",
       " ('new york', 3777),\n",
       " ('flagship phone', 3642),\n",
       " ('facial recognition', 3582),\n",
       " ('midnight black', 3522),\n",
       " ('aspect ratio', 3505),\n",
       " ('battery life', 3405),\n",
       " ('wireless charge', 3336),\n",
       " ('red tint', 3260),\n",
       " ('fingerprint scanner', 3254)]"
      ]
     },
     "execution_count": 168,
     "metadata": {
      "tags": []
     },
     "output_type": "execute_result"
    }
   ],
   "source": [
    "words_freq[:30]"
   ]
  },
  {
   "cell_type": "markdown",
   "metadata": {
    "colab_type": "text",
    "id": "4V8DruEw6Dgm"
   },
   "source": [
    "### Most important attributes for Galaxy S8:\n",
    "The 30 most frequently occuring bigrams in the reviews/post based on the above analysis.\n",
    "This gives us a hint on what features/characteristics of the phone are being discussed by the users the most.\n",
    "Some of the most talked about attributes based on our analysis above were:\n",
    "1. Memory (as indicated by 'gb ram')\n",
    "2. Infinity display\n",
    "3. Iris Scanner\n",
    "4. Bixby button\n",
    "5. Fingerprint sensor/scanner\n",
    "6. Bixby voice\n",
    "7. Facial recognition\n",
    "8. Red tint (an issue faced by some users with Samsung products) \n",
    "9. Battery life\n",
    "10. Wireless charger"
   ]
  },
  {
   "cell_type": "code",
   "execution_count": 0,
   "metadata": {
    "colab": {},
    "colab_type": "code",
    "id": "EmYJCP5Z6Dgn"
   },
   "outputs": [],
   "source": []
  }
 ],
 "metadata": {
  "colab": {
   "collapsed_sections": [],
   "name": "DSPM Project - Final 2.ipynb",
   "provenance": [],
   "version": "0.3.2"
  },
  "kernelspec": {
   "display_name": "Python 3",
   "language": "python",
   "name": "python3"
  },
  "language_info": {
   "codemirror_mode": {
    "name": "ipython",
    "version": 3
   },
   "file_extension": ".py",
   "mimetype": "text/x-python",
   "name": "python",
   "nbconvert_exporter": "python",
   "pygments_lexer": "ipython3",
   "version": "3.6.8"
  }
 },
 "nbformat": 4,
 "nbformat_minor": 1
}
